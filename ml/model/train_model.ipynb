{
 "cells": [
  {
   "cell_type": "markdown",
   "metadata": {},
   "source": [
    "# train_model.py\n",
    "\n",
    "In this file, I:\n",
    "\n",
    "1. **Load** GitHub PR data from `github_prs_raw.json`.\n",
    "2. **Flatten** the JSON using `pandas.json_normalize`.\n",
    "3. **Clean & Engineer** features (like `time_to_merge_hours`, label counts, etc.).\n",
    "4. **Train & Evaluate** a Random Forest model.\n",
    "5. **Save** the model (`pr_time_model.joblib`).\n",
    "\n",
    "I can then run `python train_model.py` whenever I want to retrain or update the model."
   ]
  },
  {
   "cell_type": "code",
   "execution_count": 2,
   "metadata": {},
   "outputs": [
    {
     "name": "stdout",
     "output_type": "stream",
     "text": [
      "/Users/cememirsenyurt/opt/anaconda3/envs/apress/bin/python\n"
     ]
    }
   ],
   "source": [
    "import sys\n",
    "print(sys.executable)\n",
    "\n"
   ]
  }
 ],
 "metadata": {
  "kernelspec": {
   "display_name": "apress",
   "language": "python",
   "name": "python3"
  },
  "language_info": {
   "codemirror_mode": {
    "name": "ipython",
    "version": 3
   },
   "file_extension": ".py",
   "mimetype": "text/x-python",
   "name": "python",
   "nbconvert_exporter": "python",
   "pygments_lexer": "ipython3",
   "version": "3.8.13"
  }
 },
 "nbformat": 4,
 "nbformat_minor": 2
}
