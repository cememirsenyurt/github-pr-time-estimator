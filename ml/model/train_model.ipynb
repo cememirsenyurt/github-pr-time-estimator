{
 "cells": [
  {
   "cell_type": "markdown",
   "metadata": {},
   "source": [
    "# train_Model.py Overview\n",
    "\n",
    "## Train and Evaluate the Model with Cross-Validation\n",
    "\n",
    "In this block, I:\n",
    "- Define the feature set and target variable.\n",
    "- Split the data into training and test sets.\n",
    "- Use 5‑fold cross-validation on the training set to evaluate the model’s performance.\n",
    "- Train a Random Forest Regressor and evaluate it on the held‑out test set.\n"
   ]
  },
  {
   "cell_type": "markdown",
   "metadata": {},
   "source": [
    "## 1) Load Processed Data\n",
    "\n",
    "In this block, we load the cleaned and processed data from a CSV file that was exported from the EDA notebook. This file (e.g., `processed_pr_data.csv`) should contain all the necessary columns such as `is_closed`, `num_labels`, `body_length`, and `time_to_merge_hours`."
   ]
  },
  {
   "cell_type": "code",
   "execution_count": 5,
   "metadata": {},
   "outputs": [
    {
     "name": "stdout",
     "output_type": "stream",
     "text": [
      "[INFO] Loaded processed data with 91 rows and 13 columns.\n"
     ]
    }
   ],
   "source": [
    "import pandas as pd\n",
    "\n",
    "def load_processed_data():\n",
    "    \"\"\"\n",
    "    Load the preprocessed GitHub PR data from a CSV file.\n",
    "    \"\"\"\n",
    "    data_path = \"../data/processed_pr_data.csv\"\n",
    "    df = pd.read_csv(data_path)\n",
    "    print(f\"[INFO] Loaded processed data with {df.shape[0]} rows and {df.shape[1]} columns.\")\n",
    "    return df\n",
    "\n",
    "# Example usage:\n",
    "df = load_processed_data()"
   ]
  },
  {
   "cell_type": "markdown",
   "metadata": {},
   "source": [
    "## 2) Train and Evaluate the Model with Cross‑Validation\n",
    "\n",
    "Using the processed data, we:\n",
    "- Define our feature set and target variable.\n",
    "- Split the data into training and test sets.\n",
    "- Use 5‑fold cross-validation on the training set to get a robust performance estimate.\n",
    "- Train a Random Forest Regressor and evaluate it on the test set.\n"
   ]
  },
  {
   "cell_type": "code",
   "execution_count": 10,
   "metadata": {},
   "outputs": [
    {
     "name": "stdout",
     "output_type": "stream",
     "text": [
      "[INFO] Final training dataset size: 91 rows.\n",
      "[INFO] Cross-Validation RMSE (5-fold): 38.01\n",
      "[INFO] Test Set Performance:\n",
      "  MSE:  807.70\n",
      "  MAE:  24.21\n",
      "  RMSE: 28.42\n"
     ]
    }
   ],
   "source": [
    "from sklearn.model_selection import train_test_split, cross_val_score, KFold\n",
    "from sklearn.ensemble import RandomForestRegressor\n",
    "from sklearn.metrics import mean_squared_error, mean_absolute_error\n",
    "import numpy as np\n",
    "import pandas as pd\n",
    "\n",
    "def train_and_evaluate(df):\n",
    "    \"\"\"\n",
    "    Process the DataFrame to extract numeric features, then split the data,\n",
    "    train a Random Forest Regressor using 5-fold cross-validation, and evaluate its performance.\n",
    "    \n",
    "    Numeric features extracted:\n",
    "      - title_length: length of the PR title.\n",
    "      - body_length: length of the PR body text.\n",
    "      - num_labels: count of labels.\n",
    "      - is_closed: binary indicator of whether the PR is closed.\n",
    "    \n",
    "    Target variable:\n",
    "      - time_to_merge_hours\n",
    "    \"\"\"\n",
    "    # Extract numeric features from text columns:\n",
    "    # We assume df has columns \"title\", \"body\", \"labels\", \"state\", and \"time_to_merge_hours\"\n",
    "    df[\"title_length\"] = df[\"title\"].apply(lambda x: len(x) if isinstance(x, str) else 0)\n",
    "    df[\"body_length\"] = df[\"body\"].apply(lambda x: len(x) if isinstance(x, str) else 0)\n",
    "    \n",
    "    # For labels, count the number of labels (assuming it's a list)\n",
    "    def count_labels(label_list):\n",
    "        if isinstance(label_list, list):\n",
    "            return len(label_list)\n",
    "        return 0\n",
    "    df[\"num_labels\"] = df[\"labels\"].apply(count_labels)\n",
    "    \n",
    "    # Binary feature: is_closed (1 if closed, else 0)\n",
    "    df[\"is_closed\"] = df[\"state\"].apply(lambda x: 1 if isinstance(x, str) and x.lower() == \"closed\" else 0)\n",
    "    \n",
    "    # Define the numeric feature set and target variable.\n",
    "    feature_cols = [\"title_length\", \"body_length\", \"num_labels\", \"is_closed\"]\n",
    "    target_col = \"time_to_merge_hours\"\n",
    "    \n",
    "    # Drop rows with missing numeric feature or target values.\n",
    "    df_model = df.dropna(subset=feature_cols + [target_col]).copy()\n",
    "    print(f\"[INFO] Final training dataset size: {len(df_model)} rows.\")\n",
    "    \n",
    "    X = df_model[feature_cols]\n",
    "    y = df_model[target_col]\n",
    "    \n",
    "    # Convert features to numeric (should already be numeric, but this is extra safety)\n",
    "    X = X.apply(pd.to_numeric, errors='coerce')\n",
    "    \n",
    "    # Split data: 80% training, 20% testing\n",
    "    X_train, X_test, y_train, y_test = train_test_split(X, y, test_size=0.2, random_state=42)\n",
    "    \n",
    "    # Define the Random Forest Regressor\n",
    "    rf = RandomForestRegressor(n_estimators=100, random_state=42)\n",
    "    \n",
    "    # Perform 5-fold cross-validation on the training set\n",
    "    kfold = KFold(n_splits=5, shuffle=True, random_state=42)\n",
    "    cv_scores = cross_val_score(rf, X_train, y_train, cv=kfold, scoring='neg_mean_squared_error')\n",
    "    cv_mse = -cv_scores.mean()\n",
    "    cv_rmse = np.sqrt(cv_mse)\n",
    "    print(f\"[INFO] Cross-Validation RMSE (5-fold): {cv_rmse:.2f}\")\n",
    "    \n",
    "    # Train the model on the full training set\n",
    "    rf.fit(X_train, y_train)\n",
    "    \n",
    "    # Evaluate the model on the test set\n",
    "    y_pred = rf.predict(X_test)\n",
    "    mse = mean_squared_error(y_test, y_pred)\n",
    "    mae = mean_absolute_error(y_test, y_pred)\n",
    "    rmse = np.sqrt(mse)\n",
    "    \n",
    "    print(\"[INFO] Test Set Performance:\")\n",
    "    print(f\"  MSE:  {mse:.2f}\")\n",
    "    print(f\"  MAE:  {mae:.2f}\")\n",
    "    print(f\"  RMSE: {rmse:.2f}\")\n",
    "    \n",
    "    return rf\n",
    "\n",
    "rf_model = train_and_evaluate(df)"
   ]
  }
 ],
 "metadata": {
  "kernelspec": {
   "display_name": ".venv",
   "language": "python",
   "name": "python3"
  },
  "language_info": {
   "codemirror_mode": {
    "name": "ipython",
    "version": 3
   },
   "file_extension": ".py",
   "mimetype": "text/x-python",
   "name": "python",
   "nbconvert_exporter": "python",
   "pygments_lexer": "ipython3",
   "version": "3.9.1"
  }
 },
 "nbformat": 4,
 "nbformat_minor": 2
}
